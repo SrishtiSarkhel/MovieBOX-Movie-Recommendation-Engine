{
 "cells": [
  {
   "cell_type": "code",
   "execution_count": 1,
   "id": "94570446",
   "metadata": {},
   "outputs": [],
   "source": [
    "import numpy as np\n",
    "import pandas as pd\n",
    "import joblib\n",
    "from sklearn.metrics.pairwise import cosine_similarity\n",
    "from sklearn.feature_extraction.text import TfidfVectorizer\n",
    "from sklearn.metrics.pairwise import linear_kernel\n",
    "#putting movies data on 'movies' dataframe\n",
    "movies = pd.read_csv('main_data.csv')"
   ]
  },
  {
   "cell_type": "code",
   "execution_count": 2,
   "id": "b8deac64",
   "metadata": {},
   "outputs": [
    {
     "data": {
      "text/html": [
       "<div>\n",
       "<style scoped>\n",
       "    .dataframe tbody tr th:only-of-type {\n",
       "        vertical-align: middle;\n",
       "    }\n",
       "\n",
       "    .dataframe tbody tr th {\n",
       "        vertical-align: top;\n",
       "    }\n",
       "\n",
       "    .dataframe thead th {\n",
       "        text-align: right;\n",
       "    }\n",
       "</style>\n",
       "<table border=\"1\" class=\"dataframe\">\n",
       "  <thead>\n",
       "    <tr style=\"text-align: right;\">\n",
       "      <th></th>\n",
       "      <th>Title</th>\n",
       "      <th>Genre</th>\n",
       "      <th>Tags</th>\n",
       "      <th>Languages</th>\n",
       "      <th>Director</th>\n",
       "      <th>Writer</th>\n",
       "      <th>Actors</th>\n",
       "      <th>Summary</th>\n",
       "      <th>comb</th>\n",
       "    </tr>\n",
       "  </thead>\n",
       "  <tbody>\n",
       "    <tr>\n",
       "      <th>0</th>\n",
       "      <td>lets fight ghost</td>\n",
       "      <td>Crime  Drama  Fantasy  Horror  Romance</td>\n",
       "      <td>Comedy Programmes Romantic TV Comedies Horror ...</td>\n",
       "      <td>Swedish  Spanish</td>\n",
       "      <td>Tomas Alfredson</td>\n",
       "      <td>John Ajvide Lindqvist</td>\n",
       "      <td>Lina Leandersson  Kåre Hedebrant  Per Ragnar  ...</td>\n",
       "      <td>A med student with a supernatural gift tries t...</td>\n",
       "      <td>lets fight ghost Crime  Drama  Fantasy  Horror...</td>\n",
       "    </tr>\n",
       "    <tr>\n",
       "      <th>1</th>\n",
       "      <td>how to build a girl</td>\n",
       "      <td>Comedy</td>\n",
       "      <td>Dramas Comedies Films Based on Books British</td>\n",
       "      <td>English</td>\n",
       "      <td>Coky Giedroyc</td>\n",
       "      <td>Caitlin Moran</td>\n",
       "      <td>Cleo  Paddy Considine  Beanie Feldstein  Dónal...</td>\n",
       "      <td>When nerdy Johanna moves to London  things get...</td>\n",
       "      <td>how to build a girl Comedy Dramas Comedies Fil...</td>\n",
       "    </tr>\n",
       "    <tr>\n",
       "      <th>2</th>\n",
       "      <td>the con-heartist</td>\n",
       "      <td>Comedy  Romance</td>\n",
       "      <td>Romantic Comedies Comedies Romantic Films Thai...</td>\n",
       "      <td>Thai</td>\n",
       "      <td>Mez Tharatorn</td>\n",
       "      <td>Pattaranad Bhiboonsawade  Mez Tharatorn  Thods...</td>\n",
       "      <td>Kathaleeya McIntosh  Nadech Kugimiya  Pimchano...</td>\n",
       "      <td>After her ex-boyfriend cons her out of a large...</td>\n",
       "      <td>the con-heartist Comedy  Romance Romantic Come...</td>\n",
       "    </tr>\n",
       "    <tr>\n",
       "      <th>3</th>\n",
       "      <td>gleboka woda</td>\n",
       "      <td>Drama</td>\n",
       "      <td>TV Dramas Polish TV Shows Social Issue TV Dramas</td>\n",
       "      <td>Polish</td>\n",
       "      <td>unknown</td>\n",
       "      <td>unknown</td>\n",
       "      <td>Katarzyna Maciag  Piotr Nowak  Marcin Dorocins...</td>\n",
       "      <td>A group of social welfare workers led by their...</td>\n",
       "      <td>gleboka woda Drama TV Dramas Polish TV Shows S...</td>\n",
       "    </tr>\n",
       "    <tr>\n",
       "      <th>4</th>\n",
       "      <td>only a mother</td>\n",
       "      <td>Drama</td>\n",
       "      <td>Social Issue Dramas Dramas Movies Based on Boo...</td>\n",
       "      <td>Swedish</td>\n",
       "      <td>Alf Sjöberg</td>\n",
       "      <td>Ivar Lo-Johansson</td>\n",
       "      <td>Hugo Björne  Eva Dahlbeck  Ulf Palme  Ragnar F...</td>\n",
       "      <td>An unhappily married farm worker struggling to...</td>\n",
       "      <td>only a mother Drama Social Issue Dramas Dramas...</td>\n",
       "    </tr>\n",
       "  </tbody>\n",
       "</table>\n",
       "</div>"
      ],
      "text/plain": [
       "                 Title                                   Genre  \\\n",
       "0     lets fight ghost  Crime  Drama  Fantasy  Horror  Romance   \n",
       "1  how to build a girl                                  Comedy   \n",
       "2     the con-heartist                         Comedy  Romance   \n",
       "3         gleboka woda                                   Drama   \n",
       "4        only a mother                                   Drama   \n",
       "\n",
       "                                                Tags         Languages  \\\n",
       "0  Comedy Programmes Romantic TV Comedies Horror ...  Swedish  Spanish   \n",
       "1       Dramas Comedies Films Based on Books British           English   \n",
       "2  Romantic Comedies Comedies Romantic Films Thai...              Thai   \n",
       "3   TV Dramas Polish TV Shows Social Issue TV Dramas            Polish   \n",
       "4  Social Issue Dramas Dramas Movies Based on Boo...           Swedish   \n",
       "\n",
       "          Director                                             Writer  \\\n",
       "0  Tomas Alfredson                              John Ajvide Lindqvist   \n",
       "1    Coky Giedroyc                                      Caitlin Moran   \n",
       "2    Mez Tharatorn  Pattaranad Bhiboonsawade  Mez Tharatorn  Thods...   \n",
       "3          unknown                                            unknown   \n",
       "4      Alf Sjöberg                                  Ivar Lo-Johansson   \n",
       "\n",
       "                                              Actors  \\\n",
       "0  Lina Leandersson  Kåre Hedebrant  Per Ragnar  ...   \n",
       "1  Cleo  Paddy Considine  Beanie Feldstein  Dónal...   \n",
       "2  Kathaleeya McIntosh  Nadech Kugimiya  Pimchano...   \n",
       "3  Katarzyna Maciag  Piotr Nowak  Marcin Dorocins...   \n",
       "4  Hugo Björne  Eva Dahlbeck  Ulf Palme  Ragnar F...   \n",
       "\n",
       "                                             Summary  \\\n",
       "0  A med student with a supernatural gift tries t...   \n",
       "1  When nerdy Johanna moves to London  things get...   \n",
       "2  After her ex-boyfriend cons her out of a large...   \n",
       "3  A group of social welfare workers led by their...   \n",
       "4  An unhappily married farm worker struggling to...   \n",
       "\n",
       "                                                comb  \n",
       "0  lets fight ghost Crime  Drama  Fantasy  Horror...  \n",
       "1  how to build a girl Comedy Dramas Comedies Fil...  \n",
       "2  the con-heartist Comedy  Romance Romantic Come...  \n",
       "3  gleboka woda Drama TV Dramas Polish TV Shows S...  \n",
       "4  only a mother Drama Social Issue Dramas Dramas...  "
      ]
     },
     "execution_count": 2,
     "metadata": {},
     "output_type": "execute_result"
    }
   ],
   "source": [
    "movies.head(5)"
   ]
  },
  {
   "cell_type": "code",
   "execution_count": 3,
   "id": "3f21d83d",
   "metadata": {},
   "outputs": [
    {
     "data": {
      "text/plain": [
       "(9425, 46736)"
      ]
     },
     "execution_count": 3,
     "metadata": {},
     "output_type": "execute_result"
    }
   ],
   "source": [
    "tfidf = TfidfVectorizer(stop_words='english')\n",
    "movies['comb'] = movies['comb'].fillna('')\n",
    "#Construct the required TF-IDF matrix by applying the fit_transform method on the overview feature\n",
    "overview_matrix = tfidf.fit_transform(movies['comb'])\n",
    "\n",
    "#Output the shape of tfidf_matrix\n",
    "overview_matrix.shape"
   ]
  },
  {
   "cell_type": "code",
   "execution_count": 4,
   "id": "11190528",
   "metadata": {},
   "outputs": [],
   "source": [
    "import joblib"
   ]
  },
  {
   "cell_type": "code",
   "execution_count": 5,
   "id": "830df9cb",
   "metadata": {},
   "outputs": [
    {
     "data": {
      "text/plain": [
       "['./vector.pkl']"
      ]
     },
     "execution_count": 5,
     "metadata": {},
     "output_type": "execute_result"
    }
   ],
   "source": [
    "joblib.dump(tfidf,\"./vector.pkl\")"
   ]
  },
  {
   "cell_type": "code",
   "execution_count": 6,
   "id": "75bcaeaf",
   "metadata": {},
   "outputs": [
    {
     "data": {
      "text/plain": [
       "array([[1.        , 0.00534382, 0.05788241, ..., 0.01503969, 0.00593023,\n",
       "        0.08060859],\n",
       "       [0.00534382, 1.        , 0.01275535, ..., 0.02046358, 0.0062972 ,\n",
       "        0.01650876],\n",
       "       [0.05788241, 0.01275535, 1.        , ..., 0.03653663, 0.00843786,\n",
       "        0.01673663],\n",
       "       ...,\n",
       "       [0.01503969, 0.02046358, 0.03653663, ..., 1.        , 0.00581362,\n",
       "        0.03360454],\n",
       "       [0.00593023, 0.0062972 , 0.00843786, ..., 0.00581362, 1.        ,\n",
       "        0.00626974],\n",
       "       [0.08060859, 0.01650876, 0.01673663, ..., 0.03360454, 0.00626974,\n",
       "        1.        ]])"
      ]
     },
     "execution_count": 6,
     "metadata": {},
     "output_type": "execute_result"
    }
   ],
   "source": [
    "similarity_matrix = linear_kernel(overview_matrix,overview_matrix)\n",
    "similarity_matrix"
   ]
  },
  {
   "cell_type": "code",
   "execution_count": 8,
   "id": "ab305b68",
   "metadata": {},
   "outputs": [],
   "source": [
    "mapping = pd.Series(movies.index,index = movies['Title'])\n",
    "\n",
    "mapping.to_csv(\"Movie_title.csv\")"
   ]
  },
  {
   "cell_type": "code",
   "execution_count": 9,
   "id": "80c0d27e",
   "metadata": {},
   "outputs": [],
   "source": [
    "def recommend_movies_based_on_plot(movie_input):\n",
    "  movie_index = mapping[movie_input]\n",
    "  similarity_score = list(enumerate(similarity_matrix[movie_index]))\n",
    "  similarity_score = sorted(similarity_score, key=lambda x: x[1], reverse=True)\n",
    "  similarity_score = similarity_score[1:15]\n",
    "  movie_indices = [i[0] for i in similarity_score]\n",
    "  return (movies['Title'].iloc[movie_indices])\n"
   ]
  },
  {
   "cell_type": "code",
   "execution_count": 10,
   "id": "8da4df65",
   "metadata": {},
   "outputs": [
    {
     "data": {
      "text/plain": [
       "8840                     iron man 2\n",
       "8563                     iron man 3\n",
       "3723         spider-man: homecoming\n",
       "8261              avengers assemble\n",
       "8743             cowboys and aliens\n",
       "7454                children of men\n",
       "9189                        robocop\n",
       "6381                        ant-man\n",
       "5642     captain america: civil war\n",
       "2090    men in black: international\n",
       "8601                       watchmen\n",
       "1933      spider-man: far from home\n",
       "8183                  green lantern\n",
       "8813                        super 8\n",
       "Name: Title, dtype: object"
      ]
     },
     "execution_count": 10,
     "metadata": {},
     "output_type": "execute_result"
    }
   ],
   "source": [
    "recommend_movies_based_on_plot('iron man')"
   ]
  },
  {
   "cell_type": "code",
   "execution_count": 11,
   "id": "d40e7654",
   "metadata": {},
   "outputs": [],
   "source": [
    "movie_indices = [0,1,2,3,4,5,6,7,8,10,11,12,23,45]"
   ]
  },
  {
   "cell_type": "code",
   "execution_count": 13,
   "id": "e6ceecd9",
   "metadata": {},
   "outputs": [
    {
     "data": {
      "text/plain": [
       "0               lets fight ghost\n",
       "1            how to build a girl\n",
       "2               the con-heartist\n",
       "3                   gleboka woda\n",
       "4                  only a mother\n",
       "5                     snowroller\n",
       "6                  the invisible\n",
       "7     the simple minded murderer\n",
       "8                to kill a child\n",
       "10                             i\n",
       "11              harrys daughters\n",
       "12                 gyllene tider\n",
       "23               ginza cosmetics\n",
       "45                         stray\n",
       "Name: Title, dtype: object"
      ]
     },
     "execution_count": 13,
     "metadata": {},
     "output_type": "execute_result"
    }
   ],
   "source": [
    "movies['Title'].iloc[movie_indices]"
   ]
  },
  {
   "cell_type": "code",
   "execution_count": 14,
   "id": "bac5c958",
   "metadata": {},
   "outputs": [],
   "source": [
    "import pandas \n",
    "import joblib\n",
    "import numpy \n",
    "\n",
    "\n",
    "class movie_recommend:\n",
    "  def __init__(self):\n",
    "    self.movies = pd.read_csv('main_data.csv')\n",
    "    Tfidf = joblib.load('./vector.pkl')\n",
    "    self.movies['comb'] = self.movies['comb'].fillna('')\n",
    "    overview_matrix = Tfidf.fit_transform(movies['comb'])\n",
    "    self.similarity_matrix = linear_kernel(overview_matrix,overview_matrix)\n",
    "    self.mapping = pd.Series(self.movies.index,index = self.movies['Title'])\n",
    "\t\t\n",
    "  def recommend_movies_based_on_plot(self,movie_input):\n",
    "   movie_index = self.mapping[movie_input]\n",
    "   similarity_score = list(enumerate(self.similarity_matrix[movie_index]))\n",
    "   similarity_score = sorted(similarity_score, key=lambda x: x[1], reverse=True)\n",
    "   similarity_score = similarity_score[1:15]\n",
    "   movie_indices = [i[0] for i in similarity_score]\n",
    "   return (movies['Title'].iloc[movie_indices].values[0:10])"
   ]
  },
  {
   "cell_type": "code",
   "execution_count": 16,
   "id": "a04aaefa",
   "metadata": {},
   "outputs": [
    {
     "data": {
      "text/plain": [
       "array(['iron man 2', 'iron man 3', 'spider-man: homecoming',\n",
       "       'avengers assemble', 'cowboys and aliens', 'children of men',\n",
       "       'robocop', 'ant-man', 'captain america: civil war',\n",
       "       'men in black: international'], dtype=object)"
      ]
     },
     "execution_count": 16,
     "metadata": {},
     "output_type": "execute_result"
    }
   ],
   "source": [
    "movie = movie_recommend()\n",
    "movie.recommend_movies_based_on_plot('iron man')"
   ]
  },
  {
   "cell_type": "code",
   "execution_count": null,
   "id": "7577f4d4",
   "metadata": {},
   "outputs": [],
   "source": []
  }
 ],
 "metadata": {
  "kernelspec": {
   "display_name": "Python 3 (ipykernel)",
   "language": "python",
   "name": "python3"
  },
  "language_info": {
   "codemirror_mode": {
    "name": "ipython",
    "version": 3
   },
   "file_extension": ".py",
   "mimetype": "text/x-python",
   "name": "python",
   "nbconvert_exporter": "python",
   "pygments_lexer": "ipython3",
   "version": "3.10.4"
  }
 },
 "nbformat": 4,
 "nbformat_minor": 5
}
